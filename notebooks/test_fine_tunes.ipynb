{
 "cells": [
  {
   "cell_type": "code",
   "execution_count": 1,
   "id": "f324b645-7221-4fc4-b6de-c0b721817d4d",
   "metadata": {},
   "outputs": [],
   "source": [
    "# get environment variables from .env file\n",
    "import os\n",
    "import requests\n",
    "from environment_util import load_env_file\n",
    "load_env_file(\"/Users/scooper/code/stock_advisor/.env\")\n",
    "\n",
    "BEARER_TOKEN = os.environ.get(\"BEARER_TOKEN\")"
   ]
  },
  {
   "cell_type": "code",
   "execution_count": 3,
   "id": "cf20a331-9d82-44df-83e9-c229f2caa895",
   "metadata": {},
   "outputs": [
    {
     "name": "stdout",
     "output_type": "stream",
     "text": [
      "Response from /fine-tune-income-statement-user-request:\n",
      "Status Code: 200\n",
      "Response Body: <Response [200]>\n"
     ]
    }
   ],
   "source": [
    "# Define the base URL for your FastAPI application\n",
    "base_url = \"http://localhost:3333\"\n",
    "\n",
    "# Define the endpoints\n",
    "endpoint_1 = \"/fine-tune-income-statement-user-request\"\n",
    "\n",
    "# Example symbol to test with\n",
    "symbol = \"AAPL\"\n",
    "\n",
    "# Test the first endpoint\n",
    "response_1 = requests.post(f\"{base_url}{endpoint_1}\", json={\"symbol\": symbol})\n",
    "\n",
    "# Print the response from the first endpoint\n",
    "print(\"Response from /fine-tune-income-statement-user-request:\")\n",
    "print(\"Status Code:\", response_1.status_code)\n",
    "print(\"Response Body:\", response_1)\n",
    "\n",
    "# # Assuming there's a second endpoint to test, you would follow a similar pattern:\n",
    "# # Define the second endpoint (replace '/your-second-endpoint' with the actual endpoint path)\n",
    "# endpoint_2 = \"/fine-tune-income-statement-assistant-response\"\n",
    "\n",
    "# # Test the second endpoint (adjust the HTTP method and parameters as needed)\n",
    "# response_2 = requests.post(f\"{base_url}{endpoint_2}\", json={\"assistant_message\": \"assistant_message\"})\n",
    "\n",
    "# # Print the response from the second endpoint\n",
    "# print(\"\\nResponse from /fine-tune-income-statement-assistant-response:\")\n",
    "# print(\"Status Code:\", response_2.status_code)\n",
    "# print(\"Response Body:\", response_2)"
   ]
  },
  {
   "cell_type": "code",
   "execution_count": null,
   "id": "3b758d5f-133e-4d7a-93c7-58346b33d9de",
   "metadata": {},
   "outputs": [],
   "source": []
  }
 ],
 "metadata": {
  "kernelspec": {
   "display_name": "Python 3 (ipykernel)",
   "language": "python",
   "name": "python3"
  },
  "language_info": {
   "codemirror_mode": {
    "name": "ipython",
    "version": 3
   },
   "file_extension": ".py",
   "mimetype": "text/x-python",
   "name": "python",
   "nbconvert_exporter": "python",
   "pygments_lexer": "ipython3",
   "version": "3.10.5"
  }
 },
 "nbformat": 4,
 "nbformat_minor": 5
}
